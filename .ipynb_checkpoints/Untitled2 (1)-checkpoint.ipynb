{
 "cells": [
  {
   "cell_type": "code",
   "execution_count": 3,
   "metadata": {
    "colab": {},
    "colab_type": "code",
    "id": "KjikgBXnrRwS"
   },
   "outputs": [],
   "source": [
    "import pandas as pd\n",
    "import numpy as np\n",
    "from skimage.transform import resize\n",
    "from scipy import misc\n",
    "from skimage.color import rgb2gray\n",
    "import matplotlib.pyplot as plt\n",
    "import matplotlib.image as mpimg\n",
    "\n",
    "\n"
   ]
  },
  {
   "cell_type": "code",
   "execution_count": 4,
   "metadata": {
    "colab": {
     "base_uri": "https://localhost:8080/",
     "height": 347
    },
    "colab_type": "code",
    "id": "0p0zMzWTrVhW",
    "outputId": "d08d7ef6-cc6d-45a4-e459-6f7437c524af"
   },
   "outputs": [
    {
     "data": {
      "image/png": "[encoded data removed]",
      "text/plain": [
       "<Figure size 432x288 with 1 Axes>"
      ]
     },
     "metadata": {
      "needs_background": "light"
     },
     "output_type": "display_data"
    }
   ],
   "source": [
    "sampleImg=mpimg.imread(\"iconfinder_Flower_131690.png\")\n",
    "# greyS=rgb2gray(sampleImg)\n",
    "# greyS=sampleImg\n",
    "# print(greyS.shape)\n",
    "greyS=np.reshape(sampleImg, (32,32,4))\n",
    "# print(sampleImg.shape)\n",
    "# print(greyS)\n",
    "plt.show(plt.imshow(greyS[:,:,:]))\n",
    "# plt.imshow(sampleImg[:,:,2])\n",
    "\n",
    "\n",
    "# misc.imsave(\"result.png\",greyS[0])"
   ]
  },
  {
   "cell_type": "code",
   "execution_count": 5,
   "metadata": {
    "colab": {},
    "colab_type": "code",
    "id": "iEDU5US99BA_"
   },
   "outputs": [],
   "source": [
    "def sigmoid( x):\n",
    "  return np.divide(1, np.add(1, np.exp(np.negative(x))))\n",
    "    \n",
    "def relu(x):\n",
    "  return (x) * (x > 0)\n",
    "    \n",
    "def tanh(x):\n",
    "  return np.tanh(x)\n",
    "\n",
    "def softmax(x):\n",
    "# x=np.nan_to_num(x)\n",
    "  exp = np.exp(x)\n",
    "  return exp/np.sum(exp)"
   ]
  },
  {
   "cell_type": "code",
   "execution_count": 6,
   "metadata": {
    "colab": {},
    "colab_type": "code",
    "id": "7LFDGIv_xJE5"
   },
   "outputs": [],
   "source": [
    "\n",
    "def initializeFilter(dim):\n",
    "    print(dim)\n",
    "    stddev = 1/np.sqrt(np.prod(dim))\n",
    "    return np.random.randn(*dim)\n",
    "  \n",
    "def initializeWeight(size):\n",
    "    return np.random.randn(*size)*0.01"
   ]
  },
  {
   "cell_type": "code",
   "execution_count": 12,
   "metadata": {
    "colab": {},
    "colab_type": "code",
    "id": "fLex7XRzxVS-"
   },
   "outputs": [
    {
     "name": "stdout",
     "output_type": "stream",
     "text": [
      "(6, 5, 5, 4)\n",
      "(16, 5, 5, 6)\n"
     ]
    }
   ],
   "source": [
    "numoffilt1=6\n",
    "numoffilt2=16\n",
    "channels=4\n",
    "f=5\n",
    "filter1, filter2, weights3, weights4,weights5 = (numoffilt1 ,f,f,channels), (numoffilt2 ,f,f,numoffilt1), (128,400), (84, 128),(10, 84)\n",
    "filter1=initializeFilter(filter1)\n",
    "filter2=initializeFilter(filter2)\n",
    "weights3 = initializeWeight(weights3)\n",
    "weights4 = initializeWeight(weights4)\n",
    "weights5 = initializeWeight(weights5)\n",
    "bFilter1=np.zeros((numoffilt1,1))\n",
    "bFilter2=np.zeros((numoffilt2,1))\n"
   ]
  },
  {
   "cell_type": "code",
   "execution_count": 13,
   "metadata": {
    "colab": {},
    "colab_type": "code",
    "id": "2Q6yIewjxXUI"
   },
   "outputs": [],
   "source": [
    "def forward(image,filter1, filter2,weights3, weights4,weights5):\n",
    "    conv1 = convolution(image, filter1,None)\n",
    "    conv1=relu(conv1)    \n",
    "    \n",
    "    print(\"===========covolution 1==========\",conv1.shape)\n",
    "    fig=plt.figure(figsize=(16, 16))\n",
    "    for i in range(conv1.shape[2]):\n",
    "      fig.add_subplot(1,conv1.shape[2],i+1)\n",
    "      plt.imshow(conv1[:,:,i],cmap=\"gray\")\n",
    "    plt.show()\n",
    "    \n",
    "    \n",
    "    \n",
    "    downgrade1=maxPool(conv1)\n",
    "    print(\"========== Max pool 1 =============\",downgrade1.shape)\n",
    "    fig=plt.figure(figsize=(16, 16))\n",
    "    for i in range(downgrade1.shape[2]):\n",
    "      fig.add_subplot(1,downgrade1.shape[2],i+1)\n",
    "      plt.imshow(downgrade1[:,:,i],cmap=\"gray\")\n",
    "    plt.show()\n",
    "    \n",
    "    \n",
    "    conv2 = convolution(downgrade1, filter2,None)\n",
    "    conv2=relu(conv2)    \n",
    "    print(\"===========covolution 2==========\",conv2.shape)\n",
    "    fig=plt.figure(figsize=(16, 16))\n",
    "    for i in range(conv2.shape[2]):\n",
    "      fig.add_subplot(1,conv2.shape[2],i+1)\n",
    "      plt.imshow(conv2[:,:,i],cmap=\"gray\")\n",
    "    plt.show()\n",
    "      \n",
    "    \n",
    "    \n",
    "    downgrade2=maxPool(conv2)\n",
    "    print(\"========== Max pool 2 =============\",downgrade2.shape)\n",
    "    fig=plt.figure(figsize=(16, 16))\n",
    "    for i in range(downgrade2.shape[2]):\n",
    "      fig.add_subplot(1,downgrade2.shape[2],i+1)\n",
    "      plt.imshow(downgrade2[:,:,i],cmap=\"gray\")\n",
    "    plt.show()\n",
    "      \n",
    "    w,h,nf=downgrade2.shape\n",
    "    flattenD = downgrade2.reshape((w*w*nf,1)) #flatten\n",
    "    \n",
    "    z1=weights3.dot(flattenD) #+ b3 # first Fully connected\n",
    "    z1=relu(z1) \n",
    "    \n",
    "    fig=plt.figure(figsize=(16, 16))\n",
    "    plt.show(plt.imshow(z1.T,cmap=\"gray\"))\n",
    "#     print(z1)\n",
    "    z2 = weights4.dot(z1) #+ b4 # second Fully connected\n",
    "    z2=relu(z2) \n",
    "    \n",
    "    fig=plt.figure(figsize=(16, 16))\n",
    "    plt.show(plt.imshow(z2.T,cmap=\"gray\"))\n",
    "    \n",
    "    finalOut = weights5.dot(z2) #+ b4 # third output layer\n",
    "#     print(finalOut)\n",
    "    probs=softmax(finalOut) # predict class probabilities\n",
    "    print(\"Class Prediction Probabilities\")\n",
    "    print(probs)\n",
    "    \n",
    "    \n",
    "    "
   ]
  },
  {
   "cell_type": "code",
   "execution_count": 14,
   "metadata": {
    "colab": {},
    "colab_type": "code",
    "id": "hYN59B_e1FGm"
   },
   "outputs": [],
   "source": [
    "def convolution(image, filterr, bias):\n",
    "  m,n,channel=image.shape\n",
    "  numofFilt,f,s,channels=filterr.shape\n",
    "  outputDim=m-f+1\n",
    "#   print(f)\n",
    "  output=np.zeros((outputDim,outputDim,numofFilt))\n",
    " \n",
    "  for count in range(numofFilt):\n",
    "    for x in range(outputDim):\n",
    "      for y in range(outputDim):\n",
    "        output[x,y,count]=np.sum(filterr[count,:,:]*image[x:x+f,y:y+f,:])\n",
    "  return output    \n",
    "    \n",
    "  \n",
    "  "
   ]
  },
  {
   "cell_type": "code",
   "execution_count": 15,
   "metadata": {
    "colab": {},
    "colab_type": "code",
    "id": "hNpxLIkJWFxY"
   },
   "outputs": [],
   "source": [
    "def maxPool(image,f=2,s=2):\n",
    "  print(\"Pool \",image.shape)\n",
    "  m,n,channel=image.shape\n",
    "  outputDim=int((m-f)/s)+1\n",
    "  output=np.zeros((outputDim,outputDim,channel))\n",
    "  for count in range(channel):\n",
    "    for x in range(outputDim):\n",
    "      for y in range(outputDim):\n",
    "        output[x,y,count]=np.max(image[s*x:s*x+f,s*y:s*y+f,count])\n",
    "  return output    "
   ]
  },
  {
   "cell_type": "code",
   "execution_count": 16,
   "metadata": {
    "colab": {
     "base_uri": "https://localhost:8080/",
     "height": 14996
    },
    "colab_type": "code",
    "id": "wZ_C0uPr1fvX",
    "outputId": "099a86c6-52f9-4de2-f31f-7a9b94e21820",
    "scrolled": false
   },
   "outputs": [
    {
     "name": "stdout",
     "output_type": "stream",
     "text": [
      "===========covolution 1========== (28, 28, 6)\n"
     ]
    },
    {
     "data": {
      "image/png": "[encoded data removed]",
      "text/plain": [
       "<Figure size 1152x1152 with 6 Axes>"
      ]
     },
     "metadata": {
      "needs_background": "light"
     },
     "output_type": "display_data"
    },
    {
     "name": "stdout",
     "output_type": "stream",
     "text": [
      "Pool  (28, 28, 6)\n",
      "========== Max pool 1 ============= (14, 14, 6)\n"
     ]
    },
    {
     "data": {
      "image/png": "[encoded data removed]",
      "text/plain": [
       "<Figure size 1152x1152 with 6 Axes>"
      ]
     },
     "metadata": {
      "needs_background": "light"
     },
     "output_type": "display_data"
    },
    {
     "name": "stdout",
     "output_type": "stream",
     "text": [
      "===========covolution 2========== (10, 10, 16)\n"
     ]
    },
    {
     "data": {
      "image/png": "[encoded data removed]",
      "text/plain": [
       "<Figure size 1152x1152 with 16 Axes>"
      ]
     },
     "metadata": {
      "needs_background": "light"
     },
     "output_type": "display_data"
    },
    {
     "name": "stdout",
     "output_type": "stream",
     "text": [
      "Pool  (10, 10, 16)\n",
      "========== Max pool 2 ============= (5, 5, 16)\n"
     ]
    },
    {
     "data": {
      "image/png": "[encoded data removed]",
      "text/plain": [
       "<Figure size 1152x1152 with 16 Axes>"
      ]
     },
     "metadata": {
      "needs_background": "light"
     },
     "output_type": "display_data"
    },
    {
     "data": {
      "image/png": "[encoded data removed]",
      "text/plain": [
       "<Figure size 1152x1152 with 1 Axes>"
      ]
     },
     "metadata": {
      "needs_background": "light"
     },
     "output_type": "display_data"
    },
    {
     "data": {
      "image/png": "[encoded data removed]",
      "text/plain": [
       "<Figure size 1152x1152 with 1 Axes>"
      ]
     },
     "metadata": {
      "needs_background": "light"
     },
     "output_type": "display_data"
    },
    {
     "name": "stdout",
     "output_type": "stream",
     "text": [
      "Class Prediction Probabilities\n",
      "[[0.0916616 ]\n",
      " [0.10386506]\n",
      " [0.1056604 ]\n",
      " [0.1042628 ]\n",
      " [0.09952391]\n",
      " [0.10459481]\n",
      " [0.09504256]\n",
      " [0.09503554]\n",
      " [0.09836903]\n",
      " [0.10198429]]\n"
     ]
    }
   ],
   "source": [
    "\n",
    "forward(greyS,filter1,filter2,weights3,weights4,weights5)"
   ]
  },
  {
   "cell_type": "code",
   "execution_count": 0,
   "metadata": {
    "colab": {},
    "colab_type": "code",
    "id": "L8hcVtAz1kIF"
   },
   "outputs": [],
   "source": []
  }
 ],
 "metadata": {
  "colab": {
   "collapsed_sections": [],
   "name": "Untitled2.ipynb",
   "provenance": [],
   "version": "0.3.2"
  },
  "kernelspec": {
   "display_name": "Python 3",
   "language": "python",
   "name": "python3"
  },
  "language_info": {
   "codemirror_mode": {
    "name": "ipython",
    "version": 3
   },
   "file_extension": ".py",
   "mimetype": "text/x-python",
   "name": "python",
   "nbconvert_exporter": "python",
   "pygments_lexer": "ipython3",
   "version": "3.7.1"
  }
 },
 "nbformat": 4,
 "nbformat_minor": 1
}
